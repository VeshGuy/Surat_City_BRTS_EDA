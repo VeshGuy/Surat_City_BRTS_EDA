{
 "cells": [
  {
   "cell_type": "markdown",
   "id": "dfd4d1e1-4782-456e-8bc7-bc38ebb4f808",
   "metadata": {},
   "source": [
    "## 1. Import Libraries"
   ]
  },
  {
   "cell_type": "code",
   "execution_count": 1,
   "id": "b9966460-ad2a-4342-8bee-2dc2279f4e42",
   "metadata": {},
   "outputs": [],
   "source": [
    "\n",
    "import pandas as pd\n",
    "import numpy as np\n",
    "import matplotlib.pyplot as plt\n",
    "import seaborn as sns\n",
    "import folium\n",
    "from folium.plugins import MarkerCluster\n",
    "import ast\n",
    "\n",
    "sns.set_palette('viridis')\n"
   ]
  },
  {
   "cell_type": "markdown",
   "id": "e8a47b5b-c495-4599-8feb-a0b1b5992cb2",
   "metadata": {},
   "source": [
    "## 2. Load the Data"
   ]
  },
  {
   "cell_type": "code",
   "execution_count": 2,
   "id": "c830ad92-172f-4b57-8a44-9d8df28c15de",
   "metadata": {},
   "outputs": [],
   "source": [
    "\n",
    "bus_depot = pd.read_csv(\"Data/bus_depot_info.csv\")\n",
    "bus_fare = pd.read_csv(\"Data/bus_fare.csv\")\n",
    "bus_info = pd.read_csv(\"Data/bus_info.csv\")\n",
    "bus_route_shape = pd.read_csv(\"Data/bus_route_shape.csv\")\n",
    "bus_stop_info = pd.read_csv(\"Data/bus_stop_info.csv\")\n"
   ]
  },
  {
   "cell_type": "code",
   "execution_count": 3,
   "id": "efe8ffa7-a723-43f8-9c35-02d3119b4869",
   "metadata": {},
   "outputs": [
    {
     "data": {
      "text/plain": [
       "Index(['depotName', 'depotID', 'id', 'location.coordinates', 'location.type'], dtype='object')"
      ]
     },
     "execution_count": 3,
     "metadata": {},
     "output_type": "execute_result"
    }
   ],
   "source": [
    "bus_depot.columns"
   ]
  },
  {
   "cell_type": "code",
   "execution_count": 4,
   "id": "46b985a8-cfad-4b92-8e8a-c7f603696546",
   "metadata": {},
   "outputs": [
    {
     "data": {
      "text/plain": [
       "Index(['destinationStopName', 'destinationStopCategory', 'stage',\n",
       "       'observationDateTime', 'travelDistance', 'originStopName',\n",
       "       'fareForChild', 'fareForAdult', 'id', 'originDestinationCode',\n",
       "       'originStopCategory'],\n",
       "      dtype='object')"
      ]
     },
     "execution_count": 4,
     "metadata": {},
     "output_type": "execute_result"
    }
   ],
   "source": [
    "bus_fare.columns"
   ]
  },
  {
   "cell_type": "code",
   "execution_count": 5,
   "id": "16086716-bcaa-4016-aee8-dfb3044ed64b",
   "metadata": {},
   "outputs": [
    {
     "data": {
      "text/plain": [
       "Index(['license_plate', 'acAvailable', 'standingCapacity', 'depotID',\n",
       "       'vehicle_label', 'id', 'seatingCapacity', 'vehicleType'],\n",
       "      dtype='object')"
      ]
     },
     "execution_count": 5,
     "metadata": {},
     "output_type": "execute_result"
    }
   ],
   "source": [
    "bus_info.columns"
   ]
  },
  {
   "cell_type": "code",
   "execution_count": 6,
   "id": "98f503b3-eea1-4d78-865c-da13bb575fff",
   "metadata": {},
   "outputs": [
    {
     "data": {
      "text/plain": [
       "Index(['route_id', 'routeStopSequence', 'id', 'location.coordinates',\n",
       "       'location.type'],\n",
       "      dtype='object')"
      ]
     },
     "execution_count": 6,
     "metadata": {},
     "output_type": "execute_result"
    }
   ],
   "source": [
    "bus_route_shape.columns"
   ]
  },
  {
   "cell_type": "code",
   "execution_count": 7,
   "id": "18b0f3fc-3aec-4270-8fc6-288af8e4ab12",
   "metadata": {},
   "outputs": [
    {
     "data": {
      "text/plain": [
       "Index(['stop_id', 'id', 'stop_name', 'location.coordinates', 'location.type'], dtype='object')"
      ]
     },
     "execution_count": 7,
     "metadata": {},
     "output_type": "execute_result"
    }
   ],
   "source": [
    "bus_stop_info.columns"
   ]
  },
  {
   "cell_type": "markdown",
   "id": "fb8e1f62-9aa0-4241-bbac-388f1d5fc4a2",
   "metadata": {},
   "source": [
    "## 3. Initial Data Exploration\n",
    "### Bus Depot Data"
   ]
  },
  {
   "cell_type": "code",
   "execution_count": 8,
   "id": "693beaa5-b773-4f45-a7f0-dd91d9b9a6be",
   "metadata": {},
   "outputs": [
    {
     "name": "stdout",
     "output_type": "stream",
     "text": [
      "Bus Depot Info:\n",
      "<class 'pandas.core.frame.DataFrame'>\n",
      "RangeIndex: 7 entries, 0 to 6\n",
      "Data columns (total 5 columns):\n",
      " #   Column                Non-Null Count  Dtype \n",
      "---  ------                --------------  ----- \n",
      " 0   depotName             7 non-null      object\n",
      " 1   depotID               7 non-null      int64 \n",
      " 2   id                    7 non-null      object\n",
      " 3   location.coordinates  7 non-null      object\n",
      " 4   location.type         7 non-null      object\n",
      "dtypes: int64(1), object(4)\n",
      "memory usage: 412.0+ bytes\n",
      "None\n",
      "         depotName  depotID                                    id  \\\n",
      "0    BHESTAN DEPOT        1  6cac29d5-43fe-454e-9b6a-5f8d1c167899   \n",
      "1      KOSAD DEPOT        2  6cac29d5-43fe-454e-9b6a-5f8d1c167899   \n",
      "2        PAL DEPOT        4  6cac29d5-43fe-454e-9b6a-5f8d1c167899   \n",
      "3  LP SAWANI DEPOT     1003  6cac29d5-43fe-454e-9b6a-5f8d1c167899   \n",
      "4   BHESTAN GARDEN     2003  6cac29d5-43fe-454e-9b6a-5f8d1c167899   \n",
      "\n",
      "     location.coordinates location.type  \n",
      "0   [72.849281, 21.11882]         Point  \n",
      "1  [72.853752, 21.247786]         Point  \n",
      "2  [72.789746, 21.184625]         Point  \n",
      "3  [72.775902, 21.201256]         Point  \n",
      "4  [72.851966, 21.124823]         Point  \n"
     ]
    }
   ],
   "source": [
    "\n",
    "print(\"Bus Depot Info:\")\n",
    "print(bus_depot.info())\n",
    "print(bus_depot.head())"
   ]
  },
  {
   "cell_type": "markdown",
   "id": "d16267fb-6c00-4230-af1a-ee7fe816f1e1",
   "metadata": {},
   "source": [
    "### Bus Fare Data"
   ]
  },
  {
   "cell_type": "code",
   "execution_count": 9,
   "id": "7b790710-c6cc-40b9-ab3f-146d555f9f85",
   "metadata": {},
   "outputs": [
    {
     "name": "stdout",
     "output_type": "stream",
     "text": [
      "Bus Fare:\n",
      "<class 'pandas.core.frame.DataFrame'>\n",
      "RangeIndex: 7987 entries, 0 to 7986\n",
      "Data columns (total 11 columns):\n",
      " #   Column                   Non-Null Count  Dtype  \n",
      "---  ------                   --------------  -----  \n",
      " 0   destinationStopName      7987 non-null   object \n",
      " 1   destinationStopCategory  7987 non-null   object \n",
      " 2   stage                    7987 non-null   int64  \n",
      " 3   observationDateTime      7987 non-null   object \n",
      " 4   travelDistance           7987 non-null   float64\n",
      " 5   originStopName           7987 non-null   object \n",
      " 6   fareForChild             7987 non-null   int64  \n",
      " 7   fareForAdult             7987 non-null   int64  \n",
      " 8   id                       7987 non-null   object \n",
      " 9   originDestinationCode    7987 non-null   object \n",
      " 10  originStopCategory       7987 non-null   object \n",
      "dtypes: float64(1), int64(3), object(7)\n",
      "memory usage: 686.5+ KB\n",
      "None\n",
      "        destinationStopName destinationStopCategory  stage  \\\n",
      "0  RAILWAY STATION TERMINAL                TERMINAL      0   \n",
      "1             BALAJI MANDIR                     CBS      1   \n",
      "2                DELHI GATE                     CBS      1   \n",
      "3           LINEAR BUS STOP               HMC Cabin      1   \n",
      "4      LAMBE HANUMAN TEMPLE                     CBS      1   \n",
      "\n",
      "         observationDateTime  travelDistance            originStopName  \\\n",
      "0  2020-12-23T08:30:12+05:30         0.00000  RAILWAY STATION TERMINAL   \n",
      "1  2020-12-23T08:30:12+05:30         0.30193  RAILWAY STATION TERMINAL   \n",
      "2  2020-12-23T08:30:12+05:30         0.37164  RAILWAY STATION TERMINAL   \n",
      "3  2020-12-23T08:30:12+05:30         0.37360  RAILWAY STATION TERMINAL   \n",
      "4  2020-12-23T08:30:12+05:30         0.44215  RAILWAY STATION TERMINAL   \n",
      "\n",
      "   fareForChild  fareForAdult                                    id  \\\n",
      "0             2             4  f29c31d4-87ba-49c1-8643-b3c4be33743c   \n",
      "1             2             4  f29c31d4-87ba-49c1-8643-b3c4be33743c   \n",
      "2             2             4  f29c31d4-87ba-49c1-8643-b3c4be33743c   \n",
      "3             2             4  f29c31d4-87ba-49c1-8643-b3c4be33743c   \n",
      "4             2             4  f29c31d4-87ba-49c1-8643-b3c4be33743c   \n",
      "\n",
      "  originDestinationCode originStopCategory  \n",
      "0                10-Oct           TERMINAL  \n",
      "1             10 - 1148           TERMINAL  \n",
      "2             10 - 1144           TERMINAL  \n",
      "3             10 - 1001           TERMINAL  \n",
      "4                Oct-01           TERMINAL  \n"
     ]
    }
   ],
   "source": [
    "\n",
    "print(\"Bus Fare:\")\n",
    "print(bus_fare.info())\n",
    "print(bus_fare.head())\n"
   ]
  },
  {
   "cell_type": "markdown",
   "id": "3b8e8d16-b519-4e95-8f8b-c909a34b363f",
   "metadata": {},
   "source": [
    "### Bus Information"
   ]
  },
  {
   "cell_type": "code",
   "execution_count": 10,
   "id": "b2874d6c-c68f-4d63-b047-6d2904e0771d",
   "metadata": {},
   "outputs": [
    {
     "name": "stdout",
     "output_type": "stream",
     "text": [
      "Bus Info:\n",
      "<class 'pandas.core.frame.DataFrame'>\n",
      "RangeIndex: 699 entries, 0 to 698\n",
      "Data columns (total 8 columns):\n",
      " #   Column            Non-Null Count  Dtype \n",
      "---  ------            --------------  ----- \n",
      " 0   license_plate     699 non-null    object\n",
      " 1   acAvailable       699 non-null    object\n",
      " 2   standingCapacity  699 non-null    int64 \n",
      " 3   depotID           699 non-null    int64 \n",
      " 4   vehicle_label     699 non-null    object\n",
      " 5   id                699 non-null    object\n",
      " 6   seatingCapacity   699 non-null    int64 \n",
      " 7   vehicleType       699 non-null    object\n",
      "dtypes: int64(3), object(5)\n",
      "memory usage: 43.8+ KB\n",
      "None\n",
      "  license_plate acAvailable  standingCapacity  depotID vehicle_label  \\\n",
      "0    GJ05BX1501         Yes                18        4           A01   \n",
      "1    GJ05BX1580         Yes                18        4           A02   \n",
      "2    GJ05BX1583         Yes                18        4           A03   \n",
      "3    GJ05BX1729         Yes                18        4           A04   \n",
      "4    GJ05BX1750         Yes                18        4           A05   \n",
      "\n",
      "                                     id  seatingCapacity       vehicleType  \n",
      "0  fdde3e50-29d1-4046-a5a6-3ec2f68a55b6               30  BRT Bus Mini Bus  \n",
      "1  fdde3e50-29d1-4046-a5a6-3ec2f68a55b6               30  BRT Bus Mini Bus  \n",
      "2  fdde3e50-29d1-4046-a5a6-3ec2f68a55b6               30  BRT Bus Mini Bus  \n",
      "3  fdde3e50-29d1-4046-a5a6-3ec2f68a55b6               30  BRT Bus Mini Bus  \n",
      "4  fdde3e50-29d1-4046-a5a6-3ec2f68a55b6               30  BRT Bus Mini Bus  \n"
     ]
    }
   ],
   "source": [
    "\n",
    "print(\"Bus Info:\")\n",
    "print(bus_info.info())\n",
    "print(bus_info.head())\n"
   ]
  },
  {
   "cell_type": "markdown",
   "id": "fedfa944-4aa0-48f9-88bc-d453c68d818f",
   "metadata": {},
   "source": [
    "### Bus Route Shape"
   ]
  },
  {
   "cell_type": "code",
   "execution_count": 11,
   "id": "99bfa472-2221-4056-a313-4f23341fe917",
   "metadata": {},
   "outputs": [
    {
     "name": "stdout",
     "output_type": "stream",
     "text": [
      "Bus Route Shape:\n",
      "<class 'pandas.core.frame.DataFrame'>\n",
      "RangeIndex: 288 entries, 0 to 287\n",
      "Data columns (total 5 columns):\n",
      " #   Column                Non-Null Count  Dtype \n",
      "---  ------                --------------  ----- \n",
      " 0   route_id              288 non-null    object\n",
      " 1   routeStopSequence     117 non-null    object\n",
      " 2   id                    288 non-null    object\n",
      " 3   location.coordinates  288 non-null    object\n",
      " 4   location.type         288 non-null    object\n",
      "dtypes: object(5)\n",
      "memory usage: 11.4+ KB\n",
      "None\n",
      "  route_id                                  routeStopSequence  \\\n",
      "0     202U  ['1106', '1107', '1108', '1109', '1110', '1111...   \n",
      "1     204D  ['1005', '1006', '1007', '1008', '1010', '1123...   \n",
      "2     204U  ['1005', '1006', '1007', '1008', '1010', '1123...   \n",
      "3     205D  ['1009', '1011', '1130', '1131', '1132', '1133...   \n",
      "4    205GD  ['1009', '1011', '1130', '1131', '1132', '1133...   \n",
      "\n",
      "                                     id  \\\n",
      "0  92260131-dfe7-4a41-b286-83b6156d5f2f   \n",
      "1  92260131-dfe7-4a41-b286-83b6156d5f2f   \n",
      "2  92260131-dfe7-4a41-b286-83b6156d5f2f   \n",
      "3  92260131-dfe7-4a41-b286-83b6156d5f2f   \n",
      "4  92260131-dfe7-4a41-b286-83b6156d5f2f   \n",
      "\n",
      "                                location.coordinates location.type  \n",
      "0  [[72.81759, 21.19343], [72.81778, 21.19363], [...    LineString  \n",
      "1  [[72.871334, 21.175145], [72.873656, 21.175234...    LineString  \n",
      "2  [[72.81839, 21.19442], [72.81841, 21.19444], [...    LineString  \n",
      "3  [[72.87884, 21.07361], [72.87889, 21.07464], [...    LineString  \n",
      "4  [[72.8287, 21.08662], [72.82876, 21.08665], [7...    LineString  \n"
     ]
    }
   ],
   "source": [
    "\n",
    "print(\"Bus Route Shape:\")\n",
    "print(bus_route_shape.info())\n",
    "print(bus_route_shape.head())\n"
   ]
  },
  {
   "cell_type": "markdown",
   "id": "a5e0ab67-ad7b-438d-91db-89eb9fa3d712",
   "metadata": {},
   "source": [
    "### Bus Stop Information"
   ]
  },
  {
   "cell_type": "code",
   "execution_count": 12,
   "id": "6681051a-e984-4c39-9497-145459835a26",
   "metadata": {},
   "outputs": [
    {
     "name": "stdout",
     "output_type": "stream",
     "text": [
      "Bus Stop info:\n",
      "<class 'pandas.core.frame.DataFrame'>\n",
      "RangeIndex: 1328 entries, 0 to 1327\n",
      "Data columns (total 5 columns):\n",
      " #   Column                Non-Null Count  Dtype \n",
      "---  ------                --------------  ----- \n",
      " 0   stop_id               1328 non-null   int64 \n",
      " 1   id                    1328 non-null   object\n",
      " 2   stop_name             1328 non-null   object\n",
      " 3   location.coordinates  1328 non-null   object\n",
      " 4   location.type         1328 non-null   object\n",
      "dtypes: int64(1), object(4)\n",
      "memory usage: 52.0+ KB\n",
      "None\n",
      "   stop_id                                    id  \\\n",
      "0     2006  7ec3d577-2f35-48a0-8293-e343f1c63e15   \n",
      "1     2007  7ec3d577-2f35-48a0-8293-e343f1c63e15   \n",
      "2     2008  7ec3d577-2f35-48a0-8293-e343f1c63e15   \n",
      "3     2009  7ec3d577-2f35-48a0-8293-e343f1c63e15   \n",
      "4     2010  7ec3d577-2f35-48a0-8293-e343f1c63e15   \n",
      "\n",
      "                      stop_name    location.coordinates location.type  \n",
      "0           NAVYUG COLLEGE BRTS   [72.80202, 21.201776]         Point  \n",
      "1  S.M.C. WEST ZONE OFFICE BRTS   [72.799168, 21.20501]         Point  \n",
      "2                  TADWADI BRTS  [72.796065, 21.208267]         Point  \n",
      "3          PALANPUR PATIYA BRTS  [72.792687, 21.212184]         Point  \n",
      "4                 RAMNAGAR BRTS  [72.791422, 21.216198]         Point  \n"
     ]
    }
   ],
   "source": [
    "\n",
    "print(\"Bus Stop info:\")\n",
    "print(bus_stop_info.info())\n",
    "print(bus_stop_info.head())\n"
   ]
  },
  {
   "cell_type": "markdown",
   "id": "8ace89c7-0e90-49ed-9def-56c81f000935",
   "metadata": {},
   "source": [
    "## 4. Check for Missing Values"
   ]
  },
  {
   "cell_type": "code",
   "execution_count": 13,
   "id": "6fe7e7bf-3dbc-4c82-8db5-c7e2a885e2dd",
   "metadata": {},
   "outputs": [
    {
     "name": "stdout",
     "output_type": "stream",
     "text": [
      "Missing values in Bus Depot Data:\n",
      "depotName               0\n",
      "depotID                 0\n",
      "id                      0\n",
      "location.coordinates    0\n",
      "location.type           0\n",
      "dtype: int64\n",
      "\n",
      "Missing values in Bus Fare Data:\n",
      "destinationStopName        0\n",
      "destinationStopCategory    0\n",
      "stage                      0\n",
      "observationDateTime        0\n",
      "travelDistance             0\n",
      "originStopName             0\n",
      "fareForChild               0\n",
      "fareForAdult               0\n",
      "id                         0\n",
      "originDestinationCode      0\n",
      "originStopCategory         0\n",
      "dtype: int64\n",
      "\n",
      "Missing values in Bus Info Data:\n",
      "license_plate       0\n",
      "acAvailable         0\n",
      "standingCapacity    0\n",
      "depotID             0\n",
      "vehicle_label       0\n",
      "id                  0\n",
      "seatingCapacity     0\n",
      "vehicleType         0\n",
      "dtype: int64\n",
      "\n",
      "Missing values in Bus Route Shape Data:\n",
      "route_id                  0\n",
      "routeStopSequence       171\n",
      "id                        0\n",
      "location.coordinates      0\n",
      "location.type             0\n",
      "dtype: int64\n",
      "\n",
      "Missing values in Bus Stop Info Data:\n",
      "stop_id                 0\n",
      "id                      0\n",
      "stop_name               0\n",
      "location.coordinates    0\n",
      "location.type           0\n",
      "dtype: int64\n"
     ]
    }
   ],
   "source": [
    "\n",
    "print(\"Missing values in Bus Depot Data:\")\n",
    "print(bus_depot.isnull().sum())\n",
    "\n",
    "print(\"\\nMissing values in Bus Fare Data:\")\n",
    "print(bus_fare.isnull().sum())\n",
    "\n",
    "print(\"\\nMissing values in Bus Info Data:\")\n",
    "print(bus_info.isnull().sum())\n",
    "\n",
    "print(\"\\nMissing values in Bus Route Shape Data:\")\n",
    "print(bus_route_shape.isnull().sum())\n",
    "\n",
    "print(\"\\nMissing values in Bus Stop Info Data:\")\n",
    "print(bus_stop_info.isnull().sum())\n"
   ]
  },
  {
   "cell_type": "markdown",
   "id": "60257e96-7547-43a0-964d-32504607dff8",
   "metadata": {},
   "source": [
    "## 5. Data Cleaning\n",
    "### Example: Splitting Coordinates into Separate Columns"
   ]
  },
  {
   "cell_type": "code",
   "execution_count": 14,
   "id": "eab2ae46-c247-40a9-9039-4d41dfd72235",
   "metadata": {},
   "outputs": [],
   "source": [
    "\n",
    "bus_route_shape['coordinates'] = bus_route_shape['location.coordinates'].apply(lambda x: ast.literal_eval(x))\n",
    "bus_route_shape['longitude'] = bus_route_shape['coordinates'].apply(lambda x: x[0])\n",
    "bus_route_shape['latitude'] = bus_route_shape['coordinates'].apply(lambda x: x[1])"
   ]
  },
  {
   "cell_type": "markdown",
   "id": "a0e983ff-565c-4729-8373-b3cd1844720c",
   "metadata": {},
   "source": [
    "### Converting observationDateTime to Datetime Format"
   ]
  },
  {
   "cell_type": "code",
   "execution_count": 15,
   "id": "9288f92a-439b-4dd2-84b9-ef9ec37ba2de",
   "metadata": {},
   "outputs": [],
   "source": [
    "\n",
    "bus_fare['observationDateTime'] = pd.to_datetime(bus_fare['observationDateTime'])\n"
   ]
  },
  {
   "cell_type": "markdown",
   "id": "eba01426-5090-48d8-aea8-abaabad7b299",
   "metadata": {},
   "source": [
    "## 6. Descriptive Statistics"
   ]
  },
  {
   "cell_type": "code",
   "execution_count": 16,
   "id": "d5c1c971-790f-4c9a-98ea-5d13ff67824a",
   "metadata": {},
   "outputs": [
    {
     "name": "stdout",
     "output_type": "stream",
     "text": [
      "             stage  travelDistance  fareForChild  fareForAdult\n",
      "count  7987.000000     7987.000000   7987.000000   7987.000000\n",
      "mean      4.194942        7.552646      5.396394     10.689746\n",
      "std       1.937073        4.217624      2.269668      4.414408\n",
      "min       0.000000        0.000000      2.000000      4.000000\n",
      "25%       3.000000        4.632320      4.000000      8.000000\n",
      "50%       4.000000        6.823320      5.000000     10.000000\n",
      "75%       5.000000        9.259645      6.000000     12.000000\n",
      "max       9.000000       23.056160     11.000000     22.000000\n",
      "       standingCapacity      depotID  seatingCapacity\n",
      "count             699.0   699.000000            699.0\n",
      "mean               18.0  2378.167382             30.0\n",
      "std                 0.0  1734.391753              0.0\n",
      "min                18.0     1.000000             30.0\n",
      "25%                18.0  1003.000000             30.0\n",
      "50%                18.0  2003.000000             30.0\n",
      "75%                18.0  4027.000000             30.0\n",
      "max                18.0  4027.000000             30.0\n"
     ]
    }
   ],
   "source": [
    "print(bus_fare.describe())\n",
    "\n",
    "print(bus_info.describe())\n"
   ]
  },
  {
   "cell_type": "markdown",
   "id": "b629d9f9-41c0-4c0e-92f5-c1cdcd4a73ce",
   "metadata": {},
   "source": [
    "## 7. Univariate Analysis\n",
    "### Distribution of Fares for Adults and Children"
   ]
  },
  {
   "cell_type": "code",
   "execution_count": 17,
   "id": "05995ddd-7550-479b-996f-2bfdd225e62d",
   "metadata": {},
   "outputs": [
    {
     "data": {
      "image/png": "[encoded data removed]",
      "text/plain": [
       "<Figure size 1000x600 with 1 Axes>"
      ]
     },
     "metadata": {},
     "output_type": "display_data"
    }
   ],
   "source": [
    "# Histogram for fare distribution\n",
    "plt.figure(figsize=(10, 6))\n",
    "sns.histplot(bus_fare['fareForAdult'], bins=10, kde=True, color='blue', label='Adult Fare')\n",
    "sns.histplot(bus_fare['fareForChild'], bins=10, kde=True, color='green', label='Child Fare')\n",
    "plt.title(\"Fare Distribution\")\n",
    "plt.legend()\n",
    "plt.show()\n"
   ]
  },
  {
   "cell_type": "markdown",
   "id": "f2883a38-56e0-4a17-b837-41f5b510cde7",
   "metadata": {},
   "source": [
    "### Bus Standing and Seating Capacities"
   ]
  },
  {
   "cell_type": "code",
   "execution_count": 18,
   "id": "c8d5c88e-dc0f-4d89-9888-d54498f04345",
   "metadata": {},
   "outputs": [
    {
     "data": {
      "image/png": "[encoded data removed]",
      "text/plain": [
       "<Figure size 1000x600 with 1 Axes>"
      ]
     },
     "metadata": {},
     "output_type": "display_data"
    }
   ],
   "source": [
    "# Bar plot for seating and standing capacity\n",
    "plt.figure(figsize=(10, 6))\n",
    "sns.barplot(x='vehicleType', y='seatingCapacity', data=bus_info, errorbar=None)\n",
    "sns.barplot(x='vehicleType', y='standingCapacity', data=bus_info, errorbar=None, alpha=0.7)\n",
    "plt.title(\"Seating vs Standing Capacity by Vehicle Type\")\n",
    "plt.show()\n"
   ]
  },
  {
   "cell_type": "markdown",
   "id": "dbe532f0-bbbe-4dac-ae1d-459b0d7cb66d",
   "metadata": {},
   "source": [
    "## 8. Geospatial Visualization \n",
    "### Bus Depots on Map"
   ]
  },
  {
   "cell_type": "code",
   "execution_count": 19,
   "id": "1297b631-53eb-42c1-b8e8-fd9fdc2fb692",
   "metadata": {},
   "outputs": [],
   "source": [
    "# Map for bus depots in surat\n",
    "bus_depot_info = pd.DataFrame({\n",
    "    \"depotName\": [\"BHESTAN DEPOT\", \"KOSAD DEPOT\", \"PAL DEPOT\", \"LP SAWANI DEPOT\", \"BHESTAN GARDEN\", \"HANSA KOSAD DEPOT\", \"TEST DEPOT\"],\n",
    "    \"location.coordinates\": [\n",
    "        [72.849281, 21.11882], [72.853752, 21.247786], [72.789746, 21.184625],\n",
    "        [72.775902, 21.201256], [72.851966, 21.124823], [72.84838, 21.258355],\n",
    "        [73.195279, 22.29904]\n",
    "    ]\n",
    "})\n",
    "\n",
    "# Save map\n",
    "map_depots = folium.Map(location=[21.2, 72.8], zoom_start=12)\n",
    "\n",
    "for _, row in bus_depot_info.iterrows():\n",
    "    coords = row['location.coordinates']\n",
    "    folium.Marker(location=[coords[1], coords[0]], popup=row['depotName']).add_to(map_depots)\n",
    "\n",
    "map_depots.save(\"bus_depots_map.html\")\n"
   ]
  },
  {
   "cell_type": "markdown",
   "id": "ec46f390-ca3c-428d-ac42-f1b3c70f9c11",
   "metadata": {},
   "source": [
    "### Bus Stops in Maps"
   ]
  },
  {
   "cell_type": "code",
   "execution_count": 20,
   "id": "cf82238a-3457-4f80-a3c9-8c5fd42f3b8d",
   "metadata": {},
   "outputs": [],
   "source": [
    "# Map showing Bus Stops\n",
    "m = folium.Map(location=[21.1702, 72.8311], zoom_start=12)\n",
    "\n",
    "for _, row in bus_stop_info.iterrows():\n",
    "    coords = eval(row['location.coordinates'])\n",
    "    folium.Marker(\n",
    "        location=[coords[1], coords[0]],\n",
    "        popup=row['stop_name']\n",
    "    ).add_to(m)\n",
    "\n",
    "# Save map\n",
    "m.save(\"bus_stops_map.html\")\n"
   ]
  },
  {
   "cell_type": "markdown",
   "id": "491cf125-53e4-4083-9ff4-bfdb2adda9ed",
   "metadata": {},
   "source": [
    "## 9. Bivariate Analysis\n",
    "### Correlation Heatmap"
   ]
  },
  {
   "cell_type": "code",
   "execution_count": 21,
   "id": "07c00d96-b8a5-4677-9861-ad01f61b0333",
   "metadata": {},
   "outputs": [
    {
     "name": "stdout",
     "output_type": "stream",
     "text": [
      "Numerical columns in bus_info:\n",
      "   standingCapacity  depotID  seatingCapacity\n",
      "0                18        4               30\n",
      "1                18        4               30\n",
      "2                18        4               30\n",
      "3                18        4               30\n",
      "4                18        4               30\n"
     ]
    }
   ],
   "source": [
    "# Select numerical columns for correlation analysis\n",
    "numerical_bus_info = bus_info.select_dtypes(include=[np.number])\n",
    "\n",
    "# Verify selected columns\n",
    "print(\"Numerical columns in bus_info:\")\n",
    "print(numerical_bus_info.head())\n"
   ]
  },
  {
   "cell_type": "code",
   "execution_count": 22,
   "id": "ee796d77-e5d3-4496-86f5-54c3809cf831",
   "metadata": {},
   "outputs": [
    {
     "data": {
      "image/png": "[encoded data removed]",
      "text/plain": [
       "<Figure size 1000x600 with 2 Axes>"
      ]
     },
     "metadata": {},
     "output_type": "display_data"
    }
   ],
   "source": [
    "# Compute correlation matrix\n",
    "correlation_matrix = numerical_bus_info.corr()\n",
    "\n",
    "# Plot correlation heatmap if there is valid data\n",
    "if not correlation_matrix.empty:\n",
    "    plt.figure(figsize=(10, 6))\n",
    "    sns.heatmap(correlation_matrix, annot=True, cmap='coolwarm', fmt='.2f')\n",
    "    plt.title(\"Correlation Heatmap\")\n",
    "    plt.show()\n",
    "else:\n",
    "    print(\"No numerical data available for correlation.\")\n"
   ]
  },
  {
   "cell_type": "markdown",
   "id": "ff5f27d9-3e55-459a-92fb-c5a9ca73ba69",
   "metadata": {},
   "source": [
    "## 10. Route Visualization\n",
    "### Plot Route Shape"
   ]
  },
  {
   "cell_type": "code",
   "execution_count": null,
   "id": "23fc4c27-4df9-470b-8839-d5a1cc9153a6",
   "metadata": {
    "scrolled": true
   },
   "outputs": [],
   "source": [
    "# Select a specific route's coordinates for visualization (e.g., first row)\n",
    "route_coordinates = bus_route_shape['location.coordinates'].iloc[0]\n",
    "\n",
    "# Initialize the map at the starting point of the route\n",
    "route_map = folium.Map(location=route_coordinates[0][::-1], zoom_start=13)\n",
    "\n",
    "# Add polyline for the route shape\n",
    "folium.PolyLine(route_coordinates, color=\"blue\", weight=4, opacity=0.7, popup=\"Route Path\").add_to(route_map)\n",
    "\n",
    "# Optionally, add markers for key points in the route\n",
    "for coord in route_coordinates:\n",
    "    folium.CircleMarker(\n",
    "        location=coord[::-1],  # Reverse order for folium (lat, long)\n",
    "        radius=4,\n",
    "        color='red',\n",
    "        fill=True,\n",
    "        fill_color='red',\n",
    "        fill_opacity=0.6\n",
    "    ).add_to(route_map)\n",
    "\n",
    "# Save the map to an HTML file\n",
    "route_map.save(\"bus_route_map.html\")\n"
   ]
  },
  {
   "cell_type": "markdown",
   "id": "eda1bbbb-18b3-49a2-a4ce-9504246ab3b6",
   "metadata": {},
   "source": [
    "## 11. Key Insights and Observations\n",
    "1. Adult fares are generally twice that of child fares.\n",
    "2. Depots and stops are well-distributed across Surat City.\n",
    "3. Route shapes form a dense network covering major city areas.\n",
    "4. Vehicle capacities vary by type, with BRT buses having higher capacities."
   ]
  },
  {
   "cell_type": "code",
   "execution_count": null,
   "id": "22ae89f5-26aa-410a-b7bf-f1d666631a71",
   "metadata": {},
   "outputs": [],
   "source": []
  }
 ],
 "metadata": {
  "kernelspec": {
   "display_name": "Python 3",
   "language": "python",
   "name": "python3"
  },
  "language_info": {
   "codemirror_mode": {
    "name": "ipython",
    "version": 3
   },
   "file_extension": ".py",
   "mimetype": "text/x-python",
   "name": "python",
   "nbconvert_exporter": "python",
   "pygments_lexer": "ipython3",
   "version": "3.11.5"
  }
 },
 "nbformat": 4,
 "nbformat_minor": 5
}
